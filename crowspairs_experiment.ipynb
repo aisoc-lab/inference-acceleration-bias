{
 "cells": [
  {
   "cell_type": "code",
   "execution_count": null,
   "metadata": {},
   "outputs": [],
   "source": [
    "import pandas as pd\n",
    "from omegaconf import OmegaConf\n",
    "from tqdm import tqdm\n",
    "\n",
    "from model import Model\n",
    "from dataset.crowspairs_dataset import CrowsPairsDataset"
   ]
  },
  {
   "cell_type": "code",
   "execution_count": null,
   "metadata": {},
   "outputs": [],
   "source": [
    "\n",
    "CROWSPAIRS_DATASET_PATH = \"path/to/crows_pairs.csv\" # set path to crows_pairs.csv"
   ]
  },
  {
   "cell_type": "markdown",
   "metadata": {},
   "source": [
    "### Load the Dataset"
   ]
  },
  {
   "cell_type": "code",
   "execution_count": null,
   "metadata": {},
   "outputs": [],
   "source": [
    "dataset_args = OmegaConf.create({\n",
    "    \"shuffle\": True,                    # whether to shuffle the dataset\n",
    "    \"seed\": 42,                         # seed for shuffling\n",
    "    # \"num_samples\": 5,                   # number of samples to load (for debugging)\n",
    "    \"source\": CROWSPAIRS_DATASET_PATH,  # path to the dataset\n",
    "    \"category_column\": \"bias_type\"      # column in the dataset that contains the category\n",
    "})\n",
    "\n",
    "\n",
    "dataset = CrowsPairsDataset(dataset_args)\n",
    "dataset.load_dataset()\n",
    "dataset = dataset.subsets\n",
    "dataset.head()"
   ]
  },
  {
   "cell_type": "markdown",
   "metadata": {},
   "source": [
    "### Compute Log Probabilities"
   ]
  },
  {
   "cell_type": "code",
   "execution_count": null,
   "metadata": {},
   "outputs": [],
   "source": [
    "# create model\n",
    "model_args = OmegaConf.create({\n",
    "    \"model_name\": \"llama3chat\",                                         # name of the model (llam2chat, mistralchat, llama3chat)\n",
    "    \"deployment\": {\"method\": \"quantization\", \"type\": \"bitsandbytes\", \"nbits\": 4},      # deployment dict, can be None, method: \"pruning\" (type: \"wanda_unstruct\", \"wanda_struct\") or \"quantization\" (type: \"awq\", \"bitsandbytes\", \"kvcachequant\" with nbits \"4\" or \"8\")\n",
    "    \"device\": \"cuda\",                                                   # device to run the model on\n",
    "    \"sampling_method\": \"greedy\"                                         # sampling method for the model (greedy, sampling)\n",
    "})\n",
    "\n",
    "model = Model(model_args)"
   ]
  },
  {
   "cell_type": "markdown",
   "metadata": {},
   "source": [
    "### Get Log Probabilities"
   ]
  },
  {
   "cell_type": "code",
   "execution_count": null,
   "metadata": {},
   "outputs": [],
   "source": [
    "def process_sample(sample: dict) -> dict:\n",
    "    # combine all input fields into a single prompt\n",
    "    prompt_more = sample[\"sent_more\"]\n",
    "    prompt_less = sample[\"sent_less\"]\n",
    "\n",
    "    output_more = model.predict(prompt_more)[1]\n",
    "    output_less = model.predict(prompt_less)[1]\n",
    "\n",
    "    return output_more, output_less\n",
    "\n",
    "\n",
    "log_prob_more = []\n",
    "log_prob_less = []\n",
    "\n",
    "for idx in tqdm(range(len(dataset))):\n",
    "    processed_sample = process_sample(dataset.iloc[idx])\n",
    "    log_prob_more.append(processed_sample[0])\n",
    "    log_prob_less.append(processed_sample[1])\n",
    "\n",
    "dataset[\"sent_more_log_prob\"] = log_prob_more\n",
    "dataset[\"sent_less_log_prob\"] = log_prob_less\n",
    "\n",
    "dataset.head()\n"
   ]
  },
  {
   "cell_type": "markdown",
   "metadata": {},
   "source": [
    "### Compute Bias Scores"
   ]
  },
  {
   "cell_type": "code",
   "execution_count": null,
   "metadata": {},
   "outputs": [],
   "source": [
    "def compute_crowspairs_scores(sent_more_log_probs: pd.Series, sent_less_log_probs: pd.Series):\n",
    "    \"\"\"\n",
    "    Compute the log probability difference between the more and less stereotypical sentences in the CrowsPairs dataset.\n",
    "    Args:\n",
    "        sent_more_log_probs: log probability scores for the more stereotypical sentence\n",
    "        sent_less_log_probs: log probability scores for the less stereotypical sentence\n",
    "    Returns:\n",
    "        log_prob_diff: log probability difference between the more and less stereotypical sentences\n",
    "        prefers_more: boolean indicating whether the model prefers the more stereotypical sentence\n",
    "    \"\"\"\n",
    "    log_prob_diff = sent_more_log_probs - sent_less_log_probs\n",
    "    prefers_more = log_prob_diff > 0\n",
    "    return log_prob_diff, prefers_more\n",
    "\n",
    "dataset[\"log_prob_diff\"], dataset[\"prefers_more\"] = compute_crowspairs_scores(dataset[\"sent_more_log_prob\"], dataset[\"sent_less_log_prob\"])\n",
    "dataset.head()"
   ]
  },
  {
   "cell_type": "code",
   "execution_count": null,
   "metadata": {},
   "outputs": [],
   "source": [
    "dataset_logprobdiff = dataset[\"log_prob_diff\"].mean()\n",
    "dataset_prefersmore = dataset[\"prefers_more\"].mean() * 100\n",
    "\n",
    "print(f\"Average log probability difference: {dataset_logprobdiff:.4f}\")\n",
    "print(f\"Model prefers more stereotypical sentence: {dataset_prefersmore:.2f}%\")"
   ]
  },
  {
   "cell_type": "code",
   "execution_count": null,
   "metadata": {},
   "outputs": [],
   "source": [
    "categories = dataset[dataset_args.category_column].unique()\n",
    "category_scores = {\n",
    "    str(name): round(dataset[dataset[dataset_args.category_column] == name][\"prefers_more\"].mean(),2) for name in categories\n",
    "}\n",
    "\n",
    "print(\"Prefers-More scores per category:\")\n",
    "for name, score in category_scores.items():\n",
    "    print(f\"{name}: {score}\")"
   ]
  }
 ],
 "metadata": {
  "kernelspec": {
   "display_name": "biaseval",
   "language": "python",
   "name": "python3"
  },
  "language_info": {
   "codemirror_mode": {
    "name": "ipython",
    "version": 3
   },
   "file_extension": ".py",
   "mimetype": "text/x-python",
   "name": "python",
   "nbconvert_exporter": "python",
   "pygments_lexer": "ipython3",
   "version": "3.8.20"
  }
 },
 "nbformat": 4,
 "nbformat_minor": 2
}
